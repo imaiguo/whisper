{
 "cells": [
  {
   "cell_type": "markdown",
   "id": "64e678bd-959c-4139-8602-25afdf6ca740",
   "metadata": {},
   "source": [
    "# Load Model"
   ]
  },
  {
   "cell_type": "markdown",
   "id": "c0d324ae-efe9-41b0-a2d6-bcf66b97e179",
   "metadata": {},
   "source": [
    "## 1 自动下载\n",
    "自动模型到目录 /home/ephraim/.cache/whisper/small.pt\n",
    "\n",
    "```bash\n",
    "> ffmpeg -i input.mp4 -vn -c:a copy output.aac\n",
    "> ffmpeg -i input.mp4 -vn -b:a 128k -ar 44k -c:a mp3 output.mp3\n",
    "> ffmpeg -i input.mp4 -an -c:v copy output.mp4\n",
    "```"
   ]
  },
  {
   "cell_type": "markdown",
   "id": "c4c4904b-1823-4e2f-9422-00a8c396a600",
   "metadata": {},
   "source": [
    "<b>模型加载</b>"
   ]
  },
  {
   "cell_type": "code",
   "execution_count": 1,
   "id": "7c867843-072e-4289-8529-ed845ddf7963",
   "metadata": {},
   "outputs": [],
   "source": [
    "import sys\n",
    "sys.path.append(\"/opt/WorkSpace/whisper\")\n",
    "import whisper\n",
    "\n",
    "model = whisper.load_model(name = \"small\")"
   ]
  },
  {
   "cell_type": "markdown",
   "id": "47bfd0f8-d1fa-45c5-a97f-e576f32ac5e0",
   "metadata": {},
   "source": [
    "<b>模型调用</b>"
   ]
  },
  {
   "cell_type": "code",
   "execution_count": 3,
   "id": "98817e78-0164-49dd-9209-9b7cd4b7cfd4",
   "metadata": {},
   "outputs": [
    {
     "name": "stdout",
     "output_type": "stream",
     "text": [
      " going along slushy country roads and speaking to damp audiences in drafty school rooms day after day for a fortnight. He'll have to put in an appearance at some place of worship on Sunday morning, and he can come to us immediately afterwards.\n"
     ]
    }
   ],
   "source": [
    "result = model.transcribe(\"/opt/WorkSpace/whisper/voice/sample1.flac\")\n",
    "print(result[\"text\"])"
   ]
  },
  {
   "cell_type": "code",
   "execution_count": 2,
   "id": "a99e87af-e83d-4569-be09-1f9539cac266",
   "metadata": {},
   "outputs": [
    {
     "name": "stdout",
     "output_type": "stream",
     "text": [
      "海底小组队各就各位马上来呀万一一流看前拯救保护海底小组队海底小组队与海底风暴这应该差不多了我这次的火山铁又换人一心了怎么样嘟嘟嘟它看上去比原来还棒呢瞧瞧这个我还心安装了这个窝轮按钮在遇到危机情况的时候这个窝轮可以给舰艇更多的力量是的还有比赛的时候我已经等不及要带它出去试驾了我的小可爱开启张鱼宝藏门好吧但是关机记得只能在紧急的情况下才能使用窝轮按钮我得确定这玩意最好有效好队长你来看看这个风暴探测以上好像有些大动静启动张鱼探测器是一场大风暴而且正朝着我们而来打信息启动张鱼警报还抵小冲队去基地总部还抵小冲队我们必须在风暴来云之前做好准备如果这场风暴在海面上很大它在海底也会很大的打信息风暴靠近的时候通知大家明白队长皮医生关闭所有外部通道明白队长图图图收几张玉宝吃架明白队长刮鸡马上关闭引擎然后我们可以刮鸡刮鸡到底去哪了它在外面试驾虎叉艇还没有回来刮鸡刮鸡刮鸡停楼下宝宝有危险你的仙小楼下我来帮你刮鸡刮鸡我是达歇西你必须现在回到招鱼堡危险的风暴就要来了薇薇你能听见我吗好了谢谢你海底小综对这没什么别再离开你的家人了好的一夹子你们都要到哪去从珊瑚礁往深海遥这样我们在大风暴中会够安全大风暴什么大风暴从这边来的大风暴先生如果真的有风暴我得确定在珊瑚礁的同伴都安全再见了小伙伴呀呜作为一只龙虾宝宝你的钱子很大呢谢谢你先生再见妈妈他说我有一堆大钱子那很棒啊亲爱的卦基你能听到我吗万分信息风暴就要来了你必须在风暴到来之前赶回珊瑚堡好的让我马上检查一下珊瑚礁上的同伴们是不是都安全别担心队长不会在风暴来临之前赶回来的队长风暴来得很快还有十分钟就要到了卦基我们会尽可能保持珊瑚堡藏门开启谢谢队长好海南有危险好卦基还有九分钟风暴就要来了知道了抓住你了还有八分钟马上就好都好了我现在回家再见卦基只有七分钟了加油虎沙亭你可以的是时候使用渥轮动力了卦基你能听见我吗现在马上回珊瑚堡你能听见我吗队长我队长还有五分钟风暴就要来了吐吐吐准备好蓝京亭我去追他等我们一起进入珊瑚堡马上关闭藏门我快追上你来卦基释放脱绳抓到了队长还有三分钟风暴就要来了我们能行龙虾脱绳可能有用队长只有一分钟的时间了谢谢达西西水中在漫进江云堡舱门队长我们必须关门了吐吐吐等等保持江云堡舱门开启我们就要进来了准备关闭张英宝藏门十九八抓好小龙虾门六五四三二一太好了你可真把我们吓了一跳如果没有这只小龙虾的大钳子我们就回不来了这没什么这真是一个躲避风暴的好地方这的确是一次了不起的试驾刮机看起来我还有好多事情要做但是首先请问你们谁想要一杯热巧克力呢好的我也能再给我来一些棉花糖这些肉香肠肉肉肉肉肉肉肉肉肉肉肉肉肉肉肉肉肉四步撑等破大圈子却抢中抢举报告怀疑计算不害怕天下的没错停在旧望旋出涌分屐力量大跳起来东西下游就是东西下就是东西下抢举报告抢举报告抢举报告任务到此结束排底小弯队小心我们下次贪心再见\n"
     ]
    }
   ],
   "source": [
    "result = model.transcribe(\"/opt/WorkSpace/whisper/voice/FindingNemo.aac\")\n",
    "print(result[\"text\"])"
   ]
  },
  {
   "cell_type": "markdown",
   "id": "8b1bf02e-f95c-434b-82d7-69d641aa542b",
   "metadata": {},
   "source": [
    "# 2 加载本地 small\n",
    "\n",
    "pipeline支持任意长度的音频"
   ]
  },
  {
   "cell_type": "markdown",
   "id": "f5a385df-434e-4014-a5e8-2107293004d9",
   "metadata": {},
   "source": [
    "<b> 模型加载 </b>"
   ]
  },
  {
   "cell_type": "code",
   "execution_count": 1,
   "id": "bf1d50a5-6375-45fd-8bd5-9cc1581aeba2",
   "metadata": {},
   "outputs": [
    {
     "name": "stderr",
     "output_type": "stream",
     "text": [
      "Special tokens have been added in the vocabulary, make sure the associated word embeddings are fine-tuned or trained.\n"
     ]
    }
   ],
   "source": [
    "import torch\n",
    "from transformers import pipeline\n",
    "# from datasets import load_dataset\n",
    "\n",
    "device = \"cuda:0\" if torch.cuda.is_available() else \"cpu\"\n",
    "\n",
    "pipe = pipeline(\n",
    "    \"automatic-speech-recognition\",\n",
    "    model=\"/opt/Data/ModelWeight/openai/whisper-small\",\n",
    "    chunk_length_s=30,\n",
    "    device=device\n",
    ")"
   ]
  },
  {
   "cell_type": "markdown",
   "id": "91209313-84c2-4818-82f6-3c7eda39f444",
   "metadata": {},
   "source": [
    "<b>模型推理</b>"
   ]
  },
  {
   "cell_type": "code",
   "execution_count": 2,
   "id": "cc22dc69-13b2-4092-89af-4d84f0234f07",
   "metadata": {},
   "outputs": [
    {
     "name": "stderr",
     "output_type": "stream",
     "text": [
      "Due to a bug fix in https://github.com/huggingface/transformers/pull/28687 transcription using a multilingual Whisper will default to language detection followed by transcription instead of translation to English.This might be a breaking change for your use case. If you want to instead always translate your audio to English, make sure to pass `language='en'`.\n"
     ]
    },
    {
     "name": "stdout",
     "output_type": "stream",
     "text": [
      " going along slushy country roads and speaking to damp audiences in drafty school rooms day after day for a fortnight. He'll have to put in an appearance at some place of worship on Sunday morning, and he can come to us immediately afterwards.\n"
     ]
    }
   ],
   "source": [
    "prediction = pipe(\"/opt/WorkSpace/whisper/voice/sample1.flac\")\n",
    "print(prediction[\"text\"])"
   ]
  },
  {
   "cell_type": "code",
   "execution_count": 3,
   "id": "628846a1-df3d-4a4b-8704-0a5f9429ce70",
   "metadata": {},
   "outputs": [
    {
     "name": "stdout",
     "output_type": "stream",
     "text": [
      "0.0 - 5.72\t: Before he had time to answer, a much encumbered Vera burst into the room with the question,\n",
      "5.72 - 9.0\t: I say, can I leave these here?\n",
      "9.0 - 13.76\t: These were a small black pig and a lusty specimen of black-red game cock.\n"
     ]
    }
   ],
   "source": [
    "prediction = pipe(\"/opt/WorkSpace/whisper/voice/sample2.flac\", return_timestamps=True)\n",
    "dickValue = prediction[\"chunks\"]\n",
    "for key in dickValue:\n",
    "    print(str(key[\"timestamp\"][0]) + \" - \" + str(key[\"timestamp\"][1]) + \"\\t:\" + key[\"text\"])"
   ]
  },
  {
   "cell_type": "markdown",
   "id": "7fe5ce52-b45b-491b-bc73-3be37dbf4c2b",
   "metadata": {},
   "source": [
    "<b>语音翻译</b>"
   ]
  },
  {
   "cell_type": "code",
   "execution_count": null,
   "id": "983e0362-b2c8-4cbf-82b7-4b772a20f6db",
   "metadata": {},
   "outputs": [],
   "source": [
    "prediction = pipe(\"/opt/WorkSpace/whisper/voice/sample2.flac\", return_timestamps=True, generate_kwargs={\"language\": \"zh\", \"task\": \"transcribe\"})\n",
    "dickValue = prediction[\"chunks\"]\n",
    "# print(prediction)\n",
    "for key in dickValue:\n",
    "    print(str(key[\"timestamp\"][0]) + \" - \" + str(key[\"timestamp\"][1]) + \"\\t:\" + key[\"text\"])"
   ]
  },
  {
   "cell_type": "markdown",
   "id": "6b1773b6-a156-44a9-af91-0ba6b46fd8ab",
   "metadata": {},
   "source": [
    "<b>长音频处理</b>"
   ]
  },
  {
   "cell_type": "code",
   "execution_count": 30,
   "id": "0c0b299a-da81-4742-a6e3-e1b5e1775f18",
   "metadata": {},
   "outputs": [
    {
     "name": "stderr",
     "output_type": "stream",
     "text": [
      "Whisper did not predict an ending timestamp, which can happen if audio is cut off in the middle of a word. Also make sure WhisperTimeStampLogitsProcessor was used during generation.\n"
     ]
    },
    {
     "name": "stdout",
     "output_type": "stream",
     "text": [
      "0.0 - 5.0\t:海底小组队各就各位\n",
      "5.0 - 8.0\t:马上来啦\n",
      "8.0 - 9.0\t:万一\n",
      "9.0 - 25.0\t:一流看前拯救保护海底小冻队\n",
      "27.0 - 29.0\t:海底小冻队\n",
      "29.0 - 31.0\t:与海底风暴\n",
      "31.0 - 33.0\t:海底小冻队\n",
      "33.0 - 35.0\t:保护\n",
      "35.0 - 37.0\t:海底小冻队\n",
      "37.0 - 39.0\t:保护\n",
      "39.0 - 41.0\t:保护\n",
      "41.0 - 43.0\t:海底小冻队\n",
      "43.0 - 45.0\t:保护海底小充隊\n",
      "47.0 - 57.0\t:海底小充隊與海底風暴\n",
      "58.0 - 59.0\t:這人該插火了\n",
      "60.0 - 61.0\t:虎沙亭又換人一心了\n",
      "62.0 - 63.0\t:怎麼樣嘟嘟嘟\n",
      "63.0 - 65.92\t:他看上去比原来还棒\n",
      "65.92 - 67.32\t:瞧瞧这个\n",
      "67.32 - 70.32\t:我还心安装了这个窝轮按钮\n",
      "70.32 - 72.8\t:在遇到危机情况的时候\n",
      "72.8 - 76.32\t:这个窝轮可以给舰艇更多的力量\n",
      "76.32 - 77.32\t:是的\n",
      "77.32 - 79.32\t:还有比赛的时候\n",
      "81.32 - 83.72\t:我已经等不及要带他出去试驾了\n",
      "83.72 - 86.24\t:我的小可爱开启张鱼宝藏门\n",
      "86.24 - 88.24\t:嗯 好吧\n",
      "91.24 - 92.84\t:但是 瓜基\n",
      "92.84 - 95.08\t:记得只能在紧急的情况下\n",
      "95.08 - 97.08\t:才能使用波罗阿娘\n",
      "140.0 - 141.0\t:我得確定這玩意最好有效好队长\n",
      "141.0 - 142.0\t:你来看看这个\n",
      "142.0 - 144.0\t:风暴探测以上\n",
      "144.0 - 149.4\t:好像有些大动静\n",
      "151.4 - 160.4\t:启动章鱼探测器\n",
      "162.4 - 164.4\t:是一场大风暴呢而且正朝着我们而来\n",
      "164.4 - 167.0\t:打信息启动章鱼警报\n",
      "168.0 - 171.0\t:海底小宗队 去集地总部\n",
      "181.0 - 183.0\t:海底小宗队\n",
      "183.0 - 185.0\t:我们必须在风暴来云之前做好准备\n",
      "185.0 - 188.0\t:如果这场风暴在海面上很大\n",
      "188.0 - 191.0\t:它在海底也会很大的\n",
      "192.0 - 193.0\t:大西西\n",
      "193.0 - 195.0\t:风暴靠近的时候通知大家\n",
      "195.0 - 196.0\t:明白 队长\n",
      "196.0 - 199.0\t:皮一声关闭所有外部通道\n",
      "199.0 - 200.0\t:明白 队长\n",
      "207.5 - 209.5\t:吐吐吐受几张玉宝吃驾\n",
      "209.5 - 210.5\t:明白 队长\n",
      "219.0 - 221.0\t:刮鸡 马上关闭引擎\n",
      "221.0 - 222.0\t:然后我们可以\n",
      "222.0 - 223.0\t:刮鸡\n",
      "227.16 - 228.36\t:刮鸡到底去哪了\n",
      "229.76 - 231.56\t:它在外面试驾虎沙艇\n",
      "231.56 - 246.1\t:还没有回来 Whoa! Whoa! Ha ha ha!\n",
      "246.94 - 249.44\t: Yow!\n",
      "250.28 - 251.12\t: Ha ha! Whoa!\n",
      "252.36 - 253.2\t: Cool!\n",
      "258.2 - 259.04\t: Whoa!\n",
      "259.04 - 260.38\t: Ha ha ha!\n",
      "260.38 - 261.22\t: Yow!\n",
      "262.22 - 263.06\t: Wow!\n",
      "280.0 - 281.0\t: Hey! Get this!哇停\n",
      "281.0 - 283.0\t:楼下宝宝有危险\n",
      "285.5 - 287.0\t:你的仙小楼下我来帮你龙霞宝宝有危险你的心小龙霞\n",
      "287.0 - 288.5\t:我来帮你\n",
      "295.2 - 297.0\t:瓜吉 我是达歇西\n",
      "297.0 - 299.0\t:你必须现在回到昭仁宝\n",
      "299.0 - 301.0\t:危险的风暴就要来了\n",
      "301.8 - 304.0\t:薇薇 你能听见我吗\n",
      "305.0 - 307.0\t:好了谢谢你 海底小综对我就是要来了薇薇你能听见我吗好了\n",
      "307.0 - 308.0\t:谢谢你\n",
      "308.0 - 309.0\t:海底小综队\n",
      "309.0 - 310.0\t:这没什么\n",
      "310.0 - 312.0\t:别再离开你的家人了\n",
      "312.0 - 314.0\t:哇\n",
      "314.0 - 316.0\t:好大一家子\n",
      "316.0 - 318.0\t:你们都要到哪去\n",
      "318.0 - 320.0\t:从珊瑚礁往深海遥\n",
      "320.0 - 322.0\t:这样我们在大风暴中会够安全\n",
      "322.0 - 324.0\t:大风暴\n",
      "324.0 - 325.2\t:什么大风暴从这边来的大风暴中会够安全大风暴什么大风暴\n",
      "325.2 - 328.0\t:从这边来的大风暴先生\n",
      "328.0 - 329.4\t:如果真的有风暴\n",
      "329.4 - 332.4\t:我得确定在深湖交的同伴都安全\n",
      "332.4 - 335.4\t:再见了 小伙伴\n",
      "335.4 - 337.0\t:作为一只龙虾宝宝\n",
      "337.0 - 339.4\t:你的钱子很大呢\n",
      "339.4 - 342.4\t:谢谢你先生 再见\n",
      "342.4 - 344.4\t:妈妈\n",
      "344.4 - 346.0\t:他说我有一堆大钱\n",
      "346.0 - 348.0\t:那很棒 亲爱的\n",
      "349.0 - 351.0\t:瓜姐 你能听到我吗\n",
      "351.0 - 352.0\t:万分信息\n",
      "352.0 - 354.0\t:风暴就要来了\n",
      "354.0 - 356.0\t:你必须在风暴到来之前\n",
      "356.0 - 358.0\t:赶回张鱼堡\n",
      "358.0 - 360.0\t:好的 让我马上检查一下\n",
      "360.0 - 362.0\t:珊瑚礁上的同伴们\n",
      "362.0 - 363.0\t:是不是都安全\n",
      "363.0 - 364.0\t:别担心队长\n",
      "364.0 - 365.0\t:不会在风暴来临之前赶回来的\n",
      "366.0 - 368.0\t:队长 风暴来得很快\n",
      "368.0 - 370.0\t:还有十分钟就要到了\n",
      "370.0 - 371.0\t:挂机\n",
      "371.0 - 374.0\t:我们会尽可能保持张宇宝藏门开启\n",
      "374.0 - 375.0\t:谢谢队长\n",
      "381.0 - 403.0\t:海担有危险\n",
      "404.0 - 410.0\t:光机还有九分钟风暴就要来了知道了\n",
      "411.0 - 412.0\t:抓住你了\n",
      "413.0 - 414.0\t:还有八分钟\n",
      "415.0 - 422.0\t:马上就好\n",
      "423.0 - 424.0\t:都好了我现在回家\n",
      "425.0 - 426.0\t:再见光机只有七分钟了都好了 我现在回家再见\n",
      "426.0 - 429.0\t:刮鸡只有七分钟了\n",
      "441.0 - 443.0\t:加油啊 虎沙亭\n",
      "443.0 - 444.0\t:你可以的\n",
      "445.4 - 447.4\t:是时候使用魔轮动力了喂加油啊虎沙亭你可以的\n",
      "449.4 - 463.6\t:是时候使用魔轮斗力了\n",
      "464.6 - 488.0\t:寡姬你能听见我吗现在马上回张鱼堡你能听见我吗呃呃呃呃呃呃呃呃呃呃呃呃呃呃呃呃呃呃呃呃呃呃呃呃呃呃呃呃呃呃呃呃呃呃呃呃呃呃呃呃呃呃呃呃呃呃呃呃呃呃呃呃呃呃呃呃呃呃呃呃呃呃呃呃呃呃呃呃呃呃呃呃呃呃呃呃呃呃呃呃呃呃呃呃呃呃呃呃呃呃呃呃呃呃呃呃呃呃呃呃呃呃呃呃呃呃呃呃呃呃呃呃呃呃呃呃呃呃呃呃呃呃呃呃呃呃呃呃呃呃呃呃呃呃呃呃呃呃呃呃呃呃呃呃呃呃呃呃呃呃呃呃呃呃呃呃呃呃呃呃呃呃呃呃呃呃呃呃呃呃呃呃呃呃呃呃呃呃呃呃呃呃呃呃呃呃呃呃呃呃呃呃呃呃呃呃呃呃呃呃呃呃呃呃呃呃呃呃呃呃呃呃呃呃呃呃呃呃呃呃呃呃我去追他\n",
      "491.0 - 499.0\t:等我们一起进入章鱼宝马上关闭舱门\n",
      "516.0 - 518.0\t:我快追上你来挂机释放脱神\n",
      "519.0 - 520.0\t:抓到了\n",
      "521.0 - 522.0\t:队长 还有三分钟\n",
      "522.0 - 523.0\t:风暴就要来了\n",
      "524.0 - 554.3\t:我们能行嗯\n",
      "555.5 - 556.9\t:龍蝦脫傷\n",
      "558.1 - 560.4\t:可能有用\n",
      "560.9 - 561.6\t:隊長\n",
      "563.1 - 563.3\t:只有一分鐘的時間了\n",
      "564.2 - 564.9\t:謝謝拿奇西\n",
      "566.0 - 567.0\t:水中的慢鏡將一宝舱门队长\n",
      "567.0 - 568.0\t:我们必须关门了\n",
      "568.0 - 569.0\t:不不不\n",
      "569.0 - 570.0\t:等等\n",
      "570.0 - 572.0\t:保持张一宝舱门开启\n",
      "584.0 - 585.0\t:我们就要进来了准备关闭张英宝舱门\n",
      "585.0 - 587.0\t:十\n",
      "587.0 - 588.0\t:九\n",
      "588.0 - 589.0\t:八\n",
      "589.0 - 590.0\t:抓好\n",
      "590.0 - 592.0\t:来 小龙家门\n",
      "592.0 - 593.0\t:六\n",
      "593.0 - 594.0\t:五\n",
      "594.0 - 595.0\t:四\n",
      "595.0 - 597.0\t:三\n",
      "597.0 - 599.0\t:二\n",
      "599.0 - 601.0\t:一\n",
      "601.0 - 602.0\t:开了开了\n",
      "602.0 - 604.0\t:快 开了开了\n",
      "604.0 - 605.16\t:你可真把我们吓了一跳快太好了\n",
      "607.64 - 609.36\t:你可真把我们吓了一跳\n",
      "610.08 - 612.36\t:如果没有这只小龙虾的大钱子\n",
      "613.76 - 615.04\t:我们就回不来了\n",
      "616.96 - 618.12\t:这没什么\n",
      "620.88 - 623.48\t:这真是一个躲避风暴的好地方\n",
      "627.8 - 628.3\t:这的确是一次了不起的试驾刮机\n",
      "630.7 - 631.5\t:看起来我还有好多事情要做\n",
      "635.1 - 637.1\t:但是首先 请问你们谁想要一杯热巧克力呢\n",
      "637.9 - 638.7\t:好的我也呢\n",
      "638.7 - 666.0\t:带给我来些年花团我们再次来看看皇帝 皇帝 皇帝皇帝 皇帝记住小石龙下处在地面上\n",
      "666.0 - 667.2\t:知道 没错 明白\n",
      "667.2 - 669.6\t:河本不有用在地上跑\n",
      "669.6 - 670.6\t:记得 没错\n",
      "670.6 - 672.8\t:他们若自孝甚自不成\n",
      "672.8 - 674.4\t:皇帝 皇帝 皇帝\n",
      "674.4 - 677.2\t:等破大圈子切枪招\n",
      "677.2 - 678.2\t:皇帝 皇帝\n",
      "678.2 - 680.4\t:怀天气他们不害怕\n",
      "680.4 - 681.4\t:记住 没错 没错\n",
      "681.4 - 681.8\t:记住\n",
      "681.8 - 683.6\t:旧王身处涌\n",
      "683.6 - 684.8\t:困结力量大\n",
      "684.8 - 685.52\t:跳起来一旦回座 停载旧望旋出涌吞起力量 放下来\n",
      "689.68 - 690.64\t:农厦加油\n",
      "690.64 - 692.68\t:就是农厦\n",
      "692.68 - 694.36\t:可你半空\n",
      "694.36 - 696.68\t:可你半空\n",
      "696.68 - 699.68\t:任务到此结束\n",
      "699.68 - 700.96\t:开底小弯队\n",
      "700.96 - 701.6\t:小心\n",
      "701.6 - None\t:我们下次只心再见\n"
     ]
    }
   ],
   "source": [
    "prediction = pipe(\"/opt/WorkSpace/whisper/voice/FindingNemo.aac\", return_timestamps=True)\n",
    "dickValue = prediction[\"chunks\"]\n",
    "for key in dickValue:\n",
    "    print(str(key[\"timestamp\"][0]) + \" - \" + str(key[\"timestamp\"][1]) + \"\\t:\" + key[\"text\"])"
   ]
  }
 ],
 "metadata": {
  "kernelspec": {
   "display_name": "Python 3 (ipykernel)",
   "language": "python",
   "name": "python3"
  },
  "language_info": {
   "codemirror_mode": {
    "name": "ipython",
    "version": 3
   },
   "file_extension": ".py",
   "mimetype": "text/x-python",
   "name": "python",
   "nbconvert_exporter": "python",
   "pygments_lexer": "ipython3",
   "version": "3.11.2"
  }
 },
 "nbformat": 4,
 "nbformat_minor": 5
}
